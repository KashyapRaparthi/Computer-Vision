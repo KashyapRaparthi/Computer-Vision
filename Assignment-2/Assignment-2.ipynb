{
 "cells": [
  {
   "cell_type": "markdown",
   "metadata": {},
   "source": [
    "(Q -1) Write a program for the SVD from scratch using eigen decompositon on the data matrix X. Use the top k singular vectors to reconstruct the data matrix X'. Plot the reconstruction error ||X − X'|| for k = 1,2,…"
   ]
  },
  {
   "cell_type": "code",
   "execution_count": 36,
   "metadata": {},
   "outputs": [],
   "source": [
    "import pandas as pd\n",
    "import numpy as np\n",
    "import matplotlib.pyplot as plt\n",
    "import tqdm\n",
    "\n",
    "df = pd.read_csv(r\"C:\\Users\\Rameshwar\\Downloads\\train.csv\" , header=None)\n",
    "# df = df.drop(\"label\", axis=1)\n",
    "# df = df.drop(df.index[0])\n",
    "X = df.to_numpy(dtype=np.float32)\n"
   ]
  },
  {
   "cell_type": "code",
   "execution_count": 35,
   "metadata": {},
   "outputs": [
    {
     "name": "stderr",
     "output_type": "stream",
     "text": [
      "100%|██████████| 10/10 [00:39<00:00,  3.93s/it]\n"
     ]
    },
    {
     "data": {
      "image/png": "[encoded data removed]",
      "text/plain": [
       "<Figure size 640x480 with 1 Axes>"
      ]
     },
     "metadata": {},
     "output_type": "display_data"
    }
   ],
   "source": [
    "def SVD(X):\n",
    "\n",
    "    Error = []\n",
    "    Dominant_Singular_Vectors = []\n",
    "\n",
    "    for k in tqdm.tqdm(range(10)):\n",
    "\n",
    "        CovMat = np.dot(X.T, X) #Computing the Covariance Matrix\n",
    "\n",
    "        w, v = np.linalg.eig(CovMat) # Computing the eigenvalues and eigenvectors of the covariance matrix.\n",
    "\n",
    "        idx = np.argsort(w)[::-1] # Sort the eigenvalues and eigenvectors in descending order.\n",
    "        w = w[idx]\n",
    "        v = v[:, idx]\n",
    "\n",
    "        U = v[:, :k] # Selecting the top k singular vectors.\n",
    "        S = np.sqrt(w[:k])\n",
    "        Vt = U.T\n",
    "\n",
    "        X_hat = np.dot(U, np.dot(np.diag(S), Vt))\n",
    "        # print(X_hat.shape)\n",
    "\n",
    "        X_hat = np.ravel(X_hat)\n",
    "\n",
    "        Y = np.zeros((60000, 256))\n",
    "        Y = np.ravel(Y)\n",
    "\n",
    "        max_len = max(len(Y),len(X_hat))\n",
    "        max_array = np.zeros(max_len)\n",
    "\n",
    "        for i in range(max_len):\n",
    "            if i < len(Y):\n",
    "                max_array[i]+=Y[i]\n",
    "            if i < len(X_hat):\n",
    "                max_array[i]+=X_hat[i]\n",
    "        \n",
    "        # X_hat = X_hat + Y\n",
    "\n",
    "        X_hat = max_array.reshape((60000, 256))\n",
    "\n",
    "        # print(A.shape)\n",
    "        \n",
    "        reconstruction_error_mod = np.linalg.norm(X - X_hat)\n",
    "\n",
    "        Error.append(reconstruction_error_mod)\n",
    "        Dominant_Singular_Vectors.append(k)\n",
    "\n",
    "    return Error , Dominant_Singular_Vectors\n",
    "\n",
    "Error, Dominant_SV = SVD(X)\n",
    "plt.plot(Dominant_SV,Error)\n",
    "plt.show()"
   ]
  },
  {
   "cell_type": "code",
   "execution_count": 41,
   "metadata": {},
   "outputs": [
    {
     "ename": "AttributeError",
     "evalue": "'tuple' object has no attribute 'descriptors'",
     "output_type": "error",
     "traceback": [
      "\u001b[1;31m---------------------------------------------------------------------------\u001b[0m",
      "\u001b[1;31mAttributeError\u001b[0m                            Traceback (most recent call last)",
      "\u001b[1;32mc:\\Users\\Rameshwar\\Desktop\\Kashyap\\Assignment-2.ipynb Cell 4\u001b[0m line \u001b[0;36m5\n\u001b[0;32m     <a href='vscode-notebook-cell:/c%3A/Users/Rameshwar/Desktop/Kashyap/Assignment-2.ipynb#W5sZmlsZQ%3D%3D?line=56'>57</a>\u001b[0m \u001b[39m# Match the feature points between the two images.\u001b[39;00m\n\u001b[0;32m     <a href='vscode-notebook-cell:/c%3A/Users/Rameshwar/Desktop/Kashyap/Assignment-2.ipynb#W5sZmlsZQ%3D%3D?line=57'>58</a>\u001b[0m matcher \u001b[39m=\u001b[39m cv2\u001b[39m.\u001b[39mDescriptorMatcher_create(cv2\u001b[39m.\u001b[39mDESCRIPTOR_MATCHER_BRUTEFORCE_HAMMING)\n\u001b[1;32m---> <a href='vscode-notebook-cell:/c%3A/Users/Rameshwar/Desktop/Kashyap/Assignment-2.ipynb#W5sZmlsZQ%3D%3D?line=58'>59</a>\u001b[0m matches \u001b[39m=\u001b[39m matcher\u001b[39m.\u001b[39mmatch(pts1[\u001b[39m0\u001b[39;49m]\u001b[39m.\u001b[39;49mdescriptors, pts2[\u001b[39m0\u001b[39m]\u001b[39m.\u001b[39mdescriptors)\n\u001b[0;32m     <a href='vscode-notebook-cell:/c%3A/Users/Rameshwar/Desktop/Kashyap/Assignment-2.ipynb#W5sZmlsZQ%3D%3D?line=60'>61</a>\u001b[0m \u001b[39m# Estimate the essential matrix using the 8 point algorithm.\u001b[39;00m\n\u001b[0;32m     <a href='vscode-notebook-cell:/c%3A/Users/Rameshwar/Desktop/Kashyap/Assignment-2.ipynb#W5sZmlsZQ%3D%3D?line=61'>62</a>\u001b[0m F \u001b[39m=\u001b[39m eight_point_algorithm(pts1[\u001b[39m0\u001b[39m]\u001b[39m.\u001b[39mkeypoints, pts2[\u001b[39m0\u001b[39m]\u001b[39m.\u001b[39mkeypoints)\n",
      "\u001b[1;31mAttributeError\u001b[0m: 'tuple' object has no attribute 'descriptors'"
     ]
    }
   ],
   "source": [
    "import cv2\n",
    "import numpy as np\n",
    "\n",
    "def eight_point_algorithm(pts1, pts2):\n",
    "  \"\"\"Computes the essential matrix using the 8 point algorithm.\n",
    "\n",
    "  Args:\n",
    "    pts1: A numpy array of shape (N, 2) containing the feature points in the\n",
    "      first image.\n",
    "    pts2: A numpy array of shape (N, 2) containing the corresponding feature\n",
    "      points in the second image.\n",
    "\n",
    "  Returns:\n",
    "    A numpy array of shape (3, 3) containing the essential matrix.\n",
    "  \"\"\"\n",
    "\n",
    "  A = np.zeros((8, 9))\n",
    "  for i in range(len(pts1)):\n",
    "    x1, y1 = pts1[i]\n",
    "    x2, y2 = pts2[i]\n",
    "    A[i, :] = [x1 * x2, x1 * y2, x1, y1 * x2, y1 * y2, y1, x2, y2, 1]\n",
    "\n",
    "  U, S, Vh = np.linalg.svd(A)\n",
    "  F = Vh.T[:, -1].reshape(3, 3)\n",
    "  F = F / F[2, 2]\n",
    "\n",
    "  # Enforce the rank 2 constraint on F.\n",
    "  U, S, Vh = np.linalg.svd(F)\n",
    "  S[2] = 0\n",
    "  F = np.matmul(U, np.diag(S), Vh)\n",
    "\n",
    "  return F\n",
    "\n",
    "def rectify_image(img, H):\n",
    "  \"\"\"Rectifies an image using the homography matrix H.\n",
    "\n",
    "  Args:\n",
    "    img: A numpy array of shape (H, W, 3) containing the image to be rectified.\n",
    "    H: A numpy array of shape (3, 3) containing the homography matrix.\n",
    "\n",
    "  Returns:\n",
    "    A numpy array of shape (H, W, 3) containing the rectified image.\n",
    "  \"\"\"\n",
    "\n",
    "  warped_img = cv2.warpPerspective(img, H, (img.shape[1], img.shape[0]))\n",
    "\n",
    "  return warped_img\n",
    "\n",
    "# Load the two images.\n",
    "img1 = cv2.imread('left.jpeg', cv2.IMREAD_COLOR)\n",
    "img2 = cv2.imread('right.jpeg', cv2.IMREAD_COLOR)\n",
    "\n",
    "# Detect feature points in both images.\n",
    "pts1 = cv2.ORB_create().detectAndCompute(img1, None)\n",
    "pts2 = cv2.ORB_create().detectAndCompute(img2, None)\n",
    "\n",
    "# Match the feature points between the two images.\n",
    "matcher = cv2.DescriptorMatcher_create(cv2.DESCRIPTOR_MATCHER_BRUTEFORCE_HAMMING)\n",
    "matches = matcher.match(pts1[0].descriptors, pts2[0].descriptors)\n",
    "\n",
    "# Estimate the essential matrix using the 8 point algorithm.\n",
    "F = eight_point_algorithm(pts1[0].keypoints, pts2[0].keypoints)\n",
    "\n",
    "# Decompose the essential matrix into a rotation matrix and a translation vector.\n",
    "K = np.eye(3)\n",
    "R, T = cv2.decomposeEssentialMat(F)\n",
    "\n",
    "# Rectify the two images using the rotation matrix and translation vector.\n",
    "H1 = np.matmul(K, np.hstack((R, T)))\n",
    "H2 = np.matmul(K, np.hstack((R, -R.T @ T)))\n",
    "\n",
    "img1_rect = rectify_image(img1, H1)\n",
    "img2_rect = rectify_image(img2, H2)\n",
    "\n",
    "# Display the two rectified images.\n",
    "cv2.imshow('Left Image (Rectified)', img1_rect)\n",
    "cv2.imshow('Right Image (Rectified)', img2_rect)\n",
    "cv2.waitKey(0)\n"
   ]
  }
 ],
 "metadata": {
  "kernelspec": {
   "display_name": "Python 3",
   "language": "python",
   "name": "python3"
  },
  "language_info": {
   "codemirror_mode": {
    "name": "ipython",
    "version": 3
   },
   "file_extension": ".py",
   "mimetype": "text/x-python",
   "name": "python",
   "nbconvert_exporter": "python",
   "pygments_lexer": "ipython3",
   "version": "3.11.5"
  }
 },
 "nbformat": 4,
 "nbformat_minor": 2
}
